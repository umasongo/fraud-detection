{
 "cells": [
  {
   "cell_type": "code",
   "execution_count": 1,
   "id": "6b13a88d",
   "metadata": {},
   "outputs": [],
   "source": [
    "#import from data-clean\n",
    "%run data-clean.ipynb"
   ]
  },
  {
   "cell_type": "markdown",
   "id": "e380896c",
   "metadata": {},
   "source": [
    "Train the KNN classifier"
   ]
  },
  {
   "cell_type": "code",
   "execution_count": null,
   "id": "0d9f5c8a",
   "metadata": {},
   "outputs": [],
   "source": [
    "from sklearn.neighbors import KNeighborsClassifier\n",
    "# Applying k = 3, default Minkowski distance metrics\n",
    "model = KNeighborsClassifier(n_neighbors=3)\n",
    "# Training the classifier\n",
    "model.fit(X_train,y_train)"
   ]
  },
  {
   "cell_type": "code",
   "execution_count": null,
   "id": "e6d3893d",
   "metadata": {},
   "outputs": [],
   "source": [
    "# Testing the classifier\n",
    "y_pred = model.predict(X_test)\n",
    "print('Predicted',y_pred)\n",
    "print('Actual data',y_test)"
   ]
  },
  {
   "cell_type": "code",
   "execution_count": null,
   "id": "395dd3a7",
   "metadata": {},
   "outputs": [],
   "source": [
    "# evaluating the classifier\n",
    "from sklearn.metrics import accuracy_score\n",
    "accuracy = accuracy_score(y_test, y_pred)\n",
    "print('Accuracy',accuracy)"
   ]
  }
 ],
 "metadata": {
  "kernelspec": {
   "display_name": "Python 3 (ipykernel)",
   "language": "python",
   "name": "python3"
  },
  "language_info": {
   "codemirror_mode": {
    "name": "ipython",
    "version": 3
   },
   "file_extension": ".py",
   "mimetype": "text/x-python",
   "name": "python",
   "nbconvert_exporter": "python",
   "pygments_lexer": "ipython3",
   "version": "3.10.9"
  }
 },
 "nbformat": 4,
 "nbformat_minor": 5
}
